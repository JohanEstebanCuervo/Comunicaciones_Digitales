{
  "nbformat": 4,
  "nbformat_minor": 0,
  "metadata": {
    "colab": {
      "name": "Quadrature Amplitude Modulation (QAM).ipynb",
      "provenance": [],
      "authorship_tag": "ABX9TyODjRL1gBCJjcBgClnGuGGO",
      "include_colab_link": true
    },
    "kernelspec": {
      "name": "python3",
      "display_name": "Python 3"
    },
    "language_info": {
      "name": "python"
    }
  },
  "cells": [
    {
      "cell_type": "markdown",
      "metadata": {
        "id": "view-in-github",
        "colab_type": "text"
      },
      "source": [
        "<a href=\"https://colab.research.google.com/github/JohanEstebanCuervo/Comunicaciones_Digitales/blob/main/Quadrature_Amplitude_Modulation_(QAM).ipynb\" target=\"_parent\"><img src=\"https://colab.research.google.com/assets/colab-badge.svg\" alt=\"Open In Colab\"/></a>"
      ]
    },
    {
      "cell_type": "markdown",
      "source": [
        "# Librerias a utilizar"
      ],
      "metadata": {
        "id": "BT7-ACNYe3Ey"
      }
    },
    {
      "cell_type": "code",
      "source": [
        "!pip install scikit-commpy"
      ],
      "metadata": {
        "colab": {
          "base_uri": "https://localhost:8080/"
        },
        "id": "4e9XPNjue4ng",
        "outputId": "1c4e9f5a-fb67-4cb5-8d54-40dd3f295ab1"
      },
      "execution_count": 2,
      "outputs": [
        {
          "output_type": "stream",
          "name": "stdout",
          "text": [
            "Looking in indexes: https://pypi.org/simple, https://us-python.pkg.dev/colab-wheels/public/simple/\n",
            "Requirement already satisfied: scikit-commpy in /usr/local/lib/python3.7/dist-packages (0.7.0)\n",
            "Requirement already satisfied: sympy in /usr/local/lib/python3.7/dist-packages (from scikit-commpy) (1.7.1)\n",
            "Requirement already satisfied: matplotlib in /usr/local/lib/python3.7/dist-packages (from scikit-commpy) (3.2.2)\n",
            "Requirement already satisfied: scipy in /usr/local/lib/python3.7/dist-packages (from scikit-commpy) (1.4.1)\n",
            "Requirement already satisfied: numpy in /usr/local/lib/python3.7/dist-packages (from scikit-commpy) (1.21.6)\n",
            "Requirement already satisfied: python-dateutil>=2.1 in /usr/local/lib/python3.7/dist-packages (from matplotlib->scikit-commpy) (2.8.2)\n",
            "Requirement already satisfied: kiwisolver>=1.0.1 in /usr/local/lib/python3.7/dist-packages (from matplotlib->scikit-commpy) (1.4.3)\n",
            "Requirement already satisfied: cycler>=0.10 in /usr/local/lib/python3.7/dist-packages (from matplotlib->scikit-commpy) (0.11.0)\n",
            "Requirement already satisfied: pyparsing!=2.0.4,!=2.1.2,!=2.1.6,>=2.0.1 in /usr/local/lib/python3.7/dist-packages (from matplotlib->scikit-commpy) (3.0.9)\n",
            "Requirement already satisfied: typing-extensions in /usr/local/lib/python3.7/dist-packages (from kiwisolver>=1.0.1->matplotlib->scikit-commpy) (4.1.1)\n",
            "Requirement already satisfied: six>=1.5 in /usr/local/lib/python3.7/dist-packages (from python-dateutil>=2.1->matplotlib->scikit-commpy) (1.15.0)\n",
            "Requirement already satisfied: mpmath>=0.19 in /usr/local/lib/python3.7/dist-packages (from sympy->scikit-commpy) (1.2.1)\n"
          ]
        }
      ]
    },
    {
      "cell_type": "code",
      "source": [
        "import numpy as np\n",
        "import matplotlib.pyplot as plt\n",
        "import scipy.signal as sg \n",
        "from math import ceil,floor\n",
        "from commpy.modulation import QAMModem\n",
        "from commpy.filters import rrcosfilter\n",
        "from ipywidgets import interact\n",
        "import warnings\n",
        "warnings.filterwarnings('ignore')"
      ],
      "metadata": {
        "id": "CTZ3rv2we6RD"
      },
      "execution_count": 3,
      "outputs": []
    },
    {
      "cell_type": "code",
      "source": [
        "def Grafica_PSD(signal,Fs,title='Espectro de Potencia'):\n",
        "  f, Pxx_den = sg.welch(signal, Fs,nperseg=2048, nfft=2048)\n",
        "  f = np.concatenate((np.flip(-f),f))\n",
        "  Pxx_den = np.concatenate((np.flip(Pxx_den),Pxx_den))\n",
        "\n",
        "  plt.figure(figsize=(16,9))\n",
        "  plt.plot(f, 10*np.log10(Pxx_den))\n",
        "  plt.xlabel('frequency [Hz]',fontsize = 14)\n",
        "  plt.ylabel('PSD [dB/Hz]',fontsize = 14)\n",
        "  plt.title(title,fontsize = 20)\n",
        "  plt.grid()\n",
        "  plt.show()\n",
        "\n",
        "def eyediagram(signal,muestras_simbolo,title='Diagrama de ojo'):\n",
        "\n",
        "  inicio=muestras_simbolo//2+1\n",
        "\n",
        "  plt.figure(figsize=(16,9))\n",
        "  plt.title(title,fontsize = 20)\n",
        "  plt.xlabel('Muestras',fontsize = 14)\n",
        "  plt.ylabel('Amplitud',fontsize = 14)\n",
        "  plt.grid()\n",
        "\n",
        "  signal=np.reshape(signal[inicio:len(signal)-muestras_simbolo+inicio],(-1,muestras_simbolo)).T\n",
        "  x= np.arange(inicio-muestras_simbolo,inicio).T\n",
        "  \n",
        "  plt.plot(x,signal)\n",
        "\n",
        "def Grafica_PSD_eyediagram(signal,Fs,muestras_simbolo,title='Señal'):\n",
        "  f, Pxx_den = sg.welch(signal, Fs,nperseg=2048, nfft=2048)\n",
        "  f = np.concatenate((np.flip(-f),f))\n",
        "  Pxx_den = np.concatenate((np.flip(Pxx_den),Pxx_den))\n",
        "\n",
        "  fig= plt.figure(figsize=(25,6))\n",
        "  plt.subplot(1,2,1)\n",
        "  plt.plot(f, 10*np.log10(Pxx_den))\n",
        "  plt.xlabel('frequency [Hz]',fontsize = 14)\n",
        "  plt.ylabel('PSD [dB/Hz]',fontsize = 14)\n",
        "  plt.title('Espectro de Potencia '+ title,fontsize = 20)\n",
        "  plt.grid()\n",
        "\n",
        "  plt.subplot(1,2,2)\n",
        "  inicio=muestras_simbolo//2+1\n",
        "  plt.title('Diagrama de ojo ' + title,fontsize = 20)\n",
        "  plt.xlabel('Muestras',fontsize = 14)\n",
        "  plt.ylabel('Amplitud',fontsize = 14)\n",
        "  plt.grid()\n",
        "  signal = np.reshape(signal[inicio:len(signal)-muestras_simbolo+inicio],(-1,muestras_simbolo)).T\n",
        "  x= np.arange(inicio-muestras_simbolo,inicio).T\n",
        "  \n",
        "  plt.plot(x,signal)\n",
        "\n",
        "  plt.show\n",
        "\n",
        "def Graficas_PSK(modulador):\n",
        "  fig = plt.figure(figsize=(15,15))\n",
        "\n",
        "  ################## Primer plot Bits ##########################################\n",
        "  plt.subplot(6,1,1)\n",
        "  markerline, stemlines, baseline =plt.stem(np.arange(1,len(modulador.bits)+1), modulador.bits, linefmt ='gray', markerfmt ='D')\n",
        "  plt.setp(baseline, 'linewidth', 1,'color','blue')\n",
        "  plt.setp(markerline, markersize=7)\n",
        "  markerline.set_markerfacecolor('black') \n",
        "  markerline.set_markeredgecolor('black')\n",
        "  plt.ylabel('Bits',fontsize = 14)\n",
        "  xmin, xmax, _, _ = plt.axis()\n",
        "  plt.grid()\n",
        "\n",
        "\n",
        "  #################  Simbolo i #########################################\n",
        "  plt.subplot(6,1,2)\n",
        "  t_si = np.linspace(modulador.bit_grup,modulador.bit_grup*len(modulador.simboli),len(modulador.simboli))\n",
        "  markerline, stemlines, baseline =plt.stem(t_si, modulador.simboli, linefmt ='gray', markerfmt ='D')\n",
        "  plt.setp(baseline, 'linewidth', 1,'color','blue')\n",
        "  plt.setp(markerline, markersize=7)\n",
        "  markerline.set_markerfacecolor('black') \n",
        "  markerline.set_markeredgecolor('black')\n",
        "  plt.ylabel('Simbolos i',fontsize = 14)\n",
        "  plt.xlim([xmin, xmax])\n",
        "  plt.grid()\n",
        "\n",
        "  ####################### PAM i ######################################################\n",
        "  plt.subplot(6,1,3)\n",
        "  markerline, stemlines, baseline =plt.stem(modulador.t, modulador.PAMi, linefmt ='gray', markerfmt ='D')\n",
        "  plt.setp(baseline, 'linewidth', 1,'color','blue')\n",
        "  plt.setp(markerline, markersize=7)\n",
        "  markerline.set_markerfacecolor('black') \n",
        "  markerline.set_markeredgecolor('black')\n",
        "  plt.ylabel('PAM i',fontsize = 14)\n",
        "  plt.grid()\n",
        "\n",
        "  ##################### Simbolo q ############################################\n",
        "  plt.subplot(6,1,4)\n",
        "  markerline, stemlines, baseline =plt.stem(t_si, modulador.simbolq, linefmt ='gray', markerfmt ='D')\n",
        "  plt.setp(baseline, 'linewidth', 1,'color','blue')\n",
        "  plt.setp(markerline, markersize=7)\n",
        "  markerline.set_markerfacecolor('black') \n",
        "  markerline.set_markeredgecolor('black')\n",
        "  plt.ylabel('Simbolos q',fontsize = 14)\n",
        "  plt.xlim([xmin, xmax])\n",
        "  plt.grid()\n",
        "\n",
        "\n",
        "  ####################### PAM q ######################################################\n",
        "\n",
        "  plt.subplot(6,1,5)\n",
        "  markerline, stemlines, baseline =plt.stem(modulador.t, modulador.PAMq, linefmt ='gray', markerfmt ='D')\n",
        "  plt.setp(baseline, 'linewidth', 1,'color','blue')\n",
        "  plt.setp(markerline, markersize=7)\n",
        "  markerline.set_markerfacecolor('black') \n",
        "  markerline.set_markeredgecolor('black')\n",
        "  plt.ylabel('PAM q',fontsize = 14)\n",
        "  plt.grid()\n",
        "\n",
        "  ####################### PAM q ######################################################\n",
        "\n",
        "  plt.subplot(6,1,6)\n",
        "  plt.plot(modulador.t, modulador.signal,color='gray')\n",
        "  plt.ylabel('signal',fontsize = 14)\n",
        "  plt.grid()"
      ],
      "metadata": {
        "id": "ju5oFnKTfAHQ"
      },
      "execution_count": 3,
      "outputs": []
    },
    {
      "cell_type": "code",
      "source": [
        "class QAM_Modulation:\n",
        "\n",
        "  def __init__(self,freq_por,time_bit,simbol_sample):\n",
        "    self.type_PAM= 'square'    # tipo de PAM 'RRC' O 'square'\n",
        "    self.bit_grup=2            # Numero de bits agrupados\n",
        "    self.order_mod= 2**self.bit_grup          \n",
        "    self.freq_por=freq_por\n",
        "    self.time_bit=time_bit\n",
        "    self.simbol_sample=simbol_sample\n",
        "    self.alpha=1\n",
        "    self.span_RRC=4\n",
        "    self.Ts=1\n",
        "    self.time_simbol= time_bit*self.bit_grup\n",
        "    self.table= np.arange(self.order_mod)\n",
        "    self.Fs = self.simbol_sample/(self.time_bit*self.bit_grup)\n",
        "    self.cod_QAM()\n",
        "\n",
        "  def cod_QAM(self):\n",
        "    \n",
        "    tam = np.sqrt(self.order_mod)\n",
        "    tam_cuadricula = floor(tam)\n",
        "    point = tam_cuadricula/2-0.5\n",
        "    x= np.linspace(-point,point,tam_cuadricula)\n",
        "    grid = np.array(np.meshgrid(x, x)).reshape((2,-1)).T\n",
        "    self.cod = grid\n",
        "    if tam%1!=0:\n",
        "      if self.order_mod == 8:\n",
        "        x=np.array([0,0])\n",
        "        grid_list=list(grid.astype('int'))\n",
        "        for i,val in enumerate(grid_list):\n",
        "          if np.array_equal(x,val):\n",
        "            break\n",
        "\n",
        "        grid_list.pop(i)\n",
        "        self.cod = np.array(grid_list)\n",
        "\n",
        "      else:\n",
        "        k = (self.bit_grup-3)/2\n",
        "        grid2 = np.indices((k,k)).reshape((2,-1)).T- ceil(tam_cuadricula/2)\n",
        "\n",
        "\n",
        "    \n",
        "\n",
        "  def charge_bits(self,bits):\n",
        "    self.bits = bits\n",
        "    self.decimal = self.bintodecimal(bits,self.bit_grup)\n",
        "    code_QAM= self.codificacion_QAM(self.decimal)\n",
        "    self.simboli = code_QAM[:,0]\n",
        "    self.simbolq = code_QAM[:,1]\n",
        "\n",
        "    if self.type_PAM == 'square':\n",
        "      self.PAMi= self.Pulse_shaping_square(code_QAM[:,0],self.simbol_sample)\n",
        "      self.PAMq= self.Pulse_shaping_square(code_QAM[:,1],self.simbol_sample)\n",
        "\n",
        "    elif self.type_PAM == 'RRC':\n",
        "      self.PAMi= self.Pulse_shaping_RRC(code_QAM[:,0],self.simbol_sample)\n",
        "      self.PAMq= self.Pulse_shaping_RRC(code_QAM[:,1],self.simbol_sample)\n",
        "\n",
        "    else:\n",
        "      print('Type PAM equivocado o no implementado: ' + str(self.type_PAM)+'   !!!!!')\n",
        "\n",
        "    self.t = np.linspace(0,self.time_simbol*len(self.simboli),len(self.PAMi))\n",
        "    self.portadorai = np.cos(2*np.pi*self.freq_por*self.t)\n",
        "    self.portadoraq = np.cos(2*np.pi*self.freq_por*self.t+np.pi/2)\n",
        "\n",
        "    self.signal = self.PAMi*self.portadorai-self.PAMq*self.portadoraq\n",
        "    \n",
        "  def set_bitgrup(self,val):\n",
        "    self.bit_grup=int(val)\n",
        "    self.order_mod= 2**self.bit_grup\n",
        "    self.time_simbol= self.time_bit*self.bit_grup\n",
        "    self.table= np.arange(self.order_mod)\n",
        "    self.Fs = self.simbol_sample/(self.time_bit*self.bit_grup)\n",
        "\n",
        "\n",
        "  def upsample(self,signal,N):\n",
        "\n",
        "    y = np.zeros(len(signal)*N)\n",
        "\n",
        "    for i in range(len(signal)):\n",
        "\n",
        "      y[i*N] = signal[i]\n",
        "\n",
        "    return y\n",
        "\n",
        "  def codificacion_QAM(self,X):\n",
        "\n",
        "    salto_rad=2*np.pi/self.order_mod\n",
        "    ang=0\n",
        "\n",
        "    code_PSK = np.zeros((len(X),2))\n",
        "\n",
        "    for i in range(len(X)):\n",
        "      code_PSK[i] = self.cod[self.table[X[i]]] \n",
        "\n",
        "    return code_PSK\n",
        "\n",
        "  def Pulse_shaping_square(self,bits,muestras_simbolo):\n",
        "    ps = np.ones(muestras_simbolo)\n",
        "    bits_sample = self.upsample(bits, muestras_simbolo)\n",
        "\n",
        "    return np.convolve(bits_sample,ps)[:-(muestras_simbolo-1)]\n",
        "\n",
        "\n",
        "  def Pulse_shaping_RRC(self,bits,muestras_simbolo):\n",
        "    longitud_filtro_m = self.span_RRC*muestras_simbolo  #Longitud del filtro en Muestras\n",
        "    Fs = muestras_simbolo/self.Ts  #Frecuencia de muestreo\n",
        "    RRC = rrcosfilter(longitud_filtro_m, alpha=self.alpha, Ts=self.Ts, Fs=Fs)\n",
        "\n",
        "    bits_sample = self.upsample(bits, muestras_simbolo)\n",
        "\n",
        "    inicial= int(self.span_RRC/2*muestras_simbolo)\n",
        "    final = -(inicial-1)\n",
        "\n",
        "    return np.convolve(bits_sample,RRC[1])[inicial:final]\n",
        "\n",
        "  def bintodecimal(self,X,n,relleno='antes'):\n",
        "    tam= np.shape(X)[0]\n",
        "    if tam%n!=0:\n",
        "\n",
        "      if relleno =='antes':\n",
        "        X = np.concatenate((np.zeros(n-tam%n),X)).astype(int)\n",
        "\n",
        "      if relleno =='despues':\n",
        "        X = np.concatenate((X,np.zeros(n-tam%n))).astype(int)\n",
        "\n",
        "    X = np.reshape(X,(-1,n))*2\n",
        "    res = np.copy(X[:,-1])//2\n",
        "    X = np.power(X,np.flip(np.arange(n)))\n",
        "\n",
        "    X[:,-1]=X[:,-1]*res\n",
        "\n",
        "    X = np.sum(X,axis=1).astype(int)\n",
        "\n",
        "    return X\n",
        "\n",
        "  def Decode_QAM(self,signal): ##  Fp -> Frecuencia Portadora. Fs -> Frecuencia de muestreo. Tb -> Tiempo de Baudio\n",
        "                                  ##  Fs*Tb debe ser un numero entero  primera restricción\n",
        "    #signal= signal.reshape((-1,self.simbol_sample))\n",
        "    #print(np.shape(signal))\n",
        "    t = np.linspace(0, len(signal)/self.Fs,len(signal))\n",
        "    Portadorai = np.cos(2*np.pi*self.freq_por*t)\n",
        "    Portadoraq = np.cos(2*np.pi*self.freq_por*t+np.pi/2)\n",
        "    Muestras_ciclo = self.simbol_sample/(self.freq_por*self.time_simbol)\n",
        "    xsig = (signal*Portadorai).reshape((-1,self.simbol_sample))\n",
        "    ysig = (signal*Portadoraq).reshape((-1,self.simbol_sample))\n",
        "\n",
        "    x = np.mean(xsig[:,:round(Muestras_ciclo)],axis=1).reshape((-1,1))*2\n",
        "    y = np.mean(ysig[:,:round(Muestras_ciclo)],axis=1).reshape((-1,1))*2\n",
        "    #print(len(x))\n",
        "    #decobits1 = np.mean(np.reshape(x, (-1,int(self.Fs*self.time_simbol))),axis=1)*2\n",
        "    #decobits2 = np.mean(np.reshape(y, (-1,int(self.Fs*self.time_simbol))),axis=1)*-2\n",
        "    \n",
        "    return np.concatenate((x,-y),axis=1)#np.reshape(np.concatenate((decobits1,decobits2)),(2,-1)).T\n",
        "\n",
        "  def Estimation_Bits(self,Points):\n",
        "\n",
        "    point_est = self.Point_est(Points)\n",
        "    decimal = np.where(self.table==point_est.reshape((-1,1)))[1]\n",
        "\n",
        "    return self.decimaltobin(decimal).astype('int')\n",
        "\n",
        "\n",
        "  def Point_est(self,Points):\n",
        "\n",
        "    dist = np.zeros((len(Points),self.order_mod))\n",
        "\n",
        "    for i in range(self.order_mod):\n",
        "\n",
        "      dist[:,i]= np.sum(np.power(Points-self.cod[i],2),axis=1)\n",
        "\n",
        "\n",
        "    return np.argmin(dist,axis=1)\n",
        "  \n",
        "  def decimaltobin(self,decimal):\n",
        "\n",
        "    bits=np.array([0])\n",
        "\n",
        "    for num in decimal:\n",
        "\n",
        "      bin = np.array(list(str(\"{0:b}\".format(num)))).astype('int')\n",
        "      if(len(bin)!=self.bit_grup):\n",
        "        bin = np.concatenate((np.zeros(self.bit_grup-len(bin)),bin))\n",
        "\n",
        "      bits= np.concatenate((bits,bin))\n",
        "\n",
        "    return bits[1:]"
      ],
      "metadata": {
        "id": "qh37lGY_fGgc"
      },
      "execution_count": 5,
      "outputs": []
    },
    {
      "cell_type": "code",
      "source": [
        "def igual_array(a,b):\n",
        "  if np.array_equal(a,b):\n",
        "    return '1'\n",
        "\n",
        "  else:\n",
        "    return '0'\n"
      ],
      "metadata": {
        "id": "ppxnnnvAtymZ"
      },
      "execution_count": 37,
      "outputs": []
    },
    {
      "cell_type": "code",
      "source": [
        "bit_grup=11\n",
        "\n",
        "tam=ceil(np.sqrt(2**bit_grup))\n",
        "if tam%2!=0:\n",
        "  tam+=1\n",
        "\n",
        "print(tam)\n",
        "point = tam/2-0.5\n",
        "x= np.linspace(-point,point,tam)\n",
        "\n",
        "grid = np.array(np.meshgrid(x, x)).reshape((2,-1)).T\n",
        "\n",
        "\n",
        "plt.scatter(grid[:,0],grid[:,1])\n"
      ],
      "metadata": {
        "colab": {
          "base_uri": "https://localhost:8080/",
          "height": 300
        },
        "id": "sOiBnFcMmx0z",
        "outputId": "569000f6-8c40-4539-c078-161dd4c09f23"
      },
      "execution_count": 44,
      "outputs": [
        {
          "output_type": "stream",
          "name": "stdout",
          "text": [
            "46\n"
          ]
        },
        {
          "output_type": "execute_result",
          "data": {
            "text/plain": [
              "<matplotlib.collections.PathCollection at 0x7f2051c79690>"
            ]
          },
          "metadata": {},
          "execution_count": 44
        },
        {
          "output_type": "display_data",
          "data": {
            "text/plain": [
              "<Figure size 432x288 with 1 Axes>"
            ],
            "image/png": "[encoded data removed]"
          },
          "metadata": {
            "needs_background": "light"
          }
        }
      ]
    },
    {
      "cell_type": "code",
      "source": [
        "\n",
        "X= np.arange(len(grid)).reshape((-1,int(np.sqrt(len(grid)))))\n",
        "\n",
        "k = int((bit_grup-3)/2)\n",
        "grid2 = np.indices((k,k)).reshape((2,-1)).T\n",
        "\n",
        "fuera=[]\n",
        "delta=tam-k\n",
        "fuera.append(X[grid2[:,0],grid2[:,1]])\n",
        "fuera.append(X[grid2[:,0]+delta,grid2[:,1]])\n",
        "fuera.append(X[grid2[:,0],grid2[:,1]]+delta)\n",
        "fuera.append(X[grid2[:,0]+delta,grid2[:,1]]+delta)\n",
        "grid = np.delete(grid,fuera,0)\n",
        "plt.scatter(grid[:,0],grid[:,1])"
      ],
      "metadata": {
        "colab": {
          "base_uri": "https://localhost:8080/",
          "height": 282
        },
        "id": "2ZJ1LE1S3Ian",
        "outputId": "f16c1a5e-9547-4d2d-cd1b-072c9112c42a"
      },
      "execution_count": 45,
      "outputs": [
        {
          "output_type": "execute_result",
          "data": {
            "text/plain": [
              "<matplotlib.collections.PathCollection at 0x7f20519bb210>"
            ]
          },
          "metadata": {},
          "execution_count": 45
        },
        {
          "output_type": "display_data",
          "data": {
            "text/plain": [
              "<Figure size 432x288 with 1 Axes>"
            ],
            "image/png": "[encoded data removed]"
          },
          "metadata": {
            "needs_background": "light"
          }
        }
      ]
    },
    {
      "cell_type": "markdown",
      "source": [
        "#Quadrature Amplitude Modulation\n",
        "\n",
        "Si se entiende claramente la modulación PSK. Se puede ver claramente que la modulación QAM es practicamente lo mismo. Y esta basa en los mismos principios que la modulación PSK. EL unico cambio es que no se asignan puntos en una circunferencia si no en el plano. Por lo tanto se termina modulando en amplitud y fase. Pero los algoritmos de codificación y decodificación funcionan igualmente con algunos pequeños cambios."
      ],
      "metadata": {
        "id": "jqn4JtUVfOCP"
      }
    },
    {
      "cell_type": "code",
      "source": [
        ""
      ],
      "metadata": {
        "id": "CJY1SXpTfKc-"
      },
      "execution_count": null,
      "outputs": []
    }
  ]
}